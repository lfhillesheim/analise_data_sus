{
  "nbformat": 4,
  "nbformat_minor": 0,
  "metadata": {
    "colab": {
      "name": "tratamento_dados.ipynb",
      "provenance": [],
      "collapsed_sections": [
        "QEe-j9AutD1w",
        "_zklmW1q2Qor",
        "ITYug7TMtnEy"
      ],
      "include_colab_link": true
    },
    "kernelspec": {
      "name": "python3",
      "display_name": "Python 3"
    },
    "language_info": {
      "name": "python"
    }
  },
  "cells": [
    {
      "cell_type": "markdown",
      "metadata": {
        "id": "view-in-github",
        "colab_type": "text"
      },
      "source": [
        "<a href=\"https://colab.research.google.com/github/lfhillesheim/analise_data_sus/blob/main/notebooks/tratamento.ipynb\" target=\"_parent\"><img src=\"https://colab.research.google.com/assets/colab-badge.svg\" alt=\"Open In Colab\"/></a>"
      ]
    },
    {
      "cell_type": "markdown",
      "metadata": {
        "id": "frWgCVfdsW1r"
      },
      "source": [
        "#**Tratamento da base de dados - Projeto Lalala**\n",
        "\n",
        "---\n",
        "\n",
        "<a href=\"https://www.instagram.com/lucas_hillesheim/\" target=\"_blank\"><img src=\"https://img.shields.io/badge/-Instagram-%23E4405F?style=for-the-badge&logo=instagram&logoColor=white\" target=\"_blank\"></a> <a href=\"https://discordapp.com/users/433435878959087635\" target=\"_blank\"><img src=\"https://img.shields.io/badge/Discord-7289DA?style=for-the-badge&logo=discord&logoColor=white\" target=\"_blank\"></a> <a href = \"mailto:lucas.ferreira.hillesheim@gmail.com\"><img src=\"https://img.shields.io/badge/-Gmail-%23333?style=for-the-badge&logo=gmail&logoColor=white\" target=\"_blank\"></a> <a href=\"https://www.linkedin.com/in/lfhillesheim/\" target=\"_blank\"><img src=\"https://img.shields.io/badge/LinkedIn-0077B5?style=for-the-badge&logo=linkedin&logoColor=white\" target=\"_blank\"></a> <a href = \"https://open.spotify.com/user/lucas.ferreira.hillesheim\"><img src=\"https://img.shields.io/badge/Spotify-1ED760?&style=for-the-badge&logo=spotify&logoColor=white\" target=\"_blank\"></a> <a href = \"https://twitter.com/Lucass_Lucro\"><img src=\"https://img.shields.io/badge/Twitter-1DA1F2?style=for-the-badge&logo=twitter&logoColor=white\" target=\"_blank\"></a> \n",
        "\n",
        "[![Repositório GitHub](https://img.shields.io/badge/GitHub-Lucas-orange)](https://github.com/lfhillesheim) [![Project](https://img.shields.io/badge/Repositório_Projeto-blue)](/lfhillesheim)\n",
        "\n",
        "[![Notebook](https://img.shields.io/badge/Notebooks-grey)](https://github.com/lfhillesheim/template_data_cy/blob/main/notebooks)[![Notebook](https://img.shields.io/badge/Analise_dos_dados-blue)](https://github.com/lfhillesheim/template_data_cy/blob/main/notebooks/analise.ipynb)[![Notebook](https://img.shields.io/badge/Conclusão-gren)](https://github.com/lfhillesheim/template_data_cy/blob/main/notebooks/conclusao.ipynb)  \n",
        "\n",
        "\n",
        "[![Analise](https://img.shields.io/badge/Dados_tratados-brown)](https://github.com/lfhillesheim/template_data_cy/blob/main/data/dados_tratados.csv) \n",
        "\n",
        "---\n",
        "\n",
        "> Hi There, meu nome é Lucas, sou um Cientista de dados, com 21 anos, sou natural de Blumenau/SC e nesse projeto quero mostrar como tratar a base de dados e resolver o problema de... e para isso separei os dados em dois notebooks, um de tratamento e outro para anáise então segue o fio\n",
        "\n",
        "\n",
        "<br>\n",
        "\n",
        "# Sumário do Projeto:\n",
        "\n",
        "\n",
        "\n",
        "1. [Introdução](#intro)\n",
        "\n",
        "2. [Importações - Bibliotecas](#import-lib)\n",
        "\n",
        "3. [Importações - Dados](#import-data)\n",
        "\n",
        "4. [Formatando](#format)\n",
        "\n",
        "5. [Exportação](#export) \n"
      ]
    },
    {
      "cell_type": "markdown",
      "metadata": {
        "id": "CG4Cq--9IYFg"
      },
      "source": [
        "### 1. Introdução <a name=\"intro\"></a>"
      ]
    },
    {
      "cell_type": "markdown",
      "metadata": {
        "id": "kVD8cjKRATgy"
      },
      "source": [
        "OI"
      ]
    },
    {
      "cell_type": "markdown",
      "metadata": {
        "id": "QEe-j9AutD1w"
      },
      "source": [
        "## 2. Importações - Bibliotecas <a name=\"import-lib\"></a>"
      ]
    },
    {
      "cell_type": "code",
      "metadata": {
        "id": "Rl7W0JP1tH4A"
      },
      "source": [
        "import pandas as pd\n",
        "from data_func_sus import correcao_monetaria_ipca\n",
        "import numpy as np\n",
        "import matplotlib.pyplot as plt\n",
        "import warnings\n",
        "warnings.filterwarnings(\"ignore\")"
      ],
      "execution_count": null,
      "outputs": []
    },
    {
      "cell_type": "code",
      "metadata": {
        "id": "bFXxMJin4wTp"
      },
      "source": [
        "  url_ipca = \"https://raw.githubusercontent.com/lfhillesheim/analise_data_sus/main/data/ipca_94-2021.csv\"\n",
        "  ipca = pd.read_csv(url_ipca).set_index(\"ANO/MES\")"
      ],
      "execution_count": null,
      "outputs": []
    },
    {
      "cell_type": "markdown",
      "metadata": {
        "id": "ITYug7TMtnEy"
      },
      "source": [
        "## 3. Importações - Dados <a name=\"import-data\"></a>\n",
        "\n"
      ]
    },
    {
      "cell_type": "code",
      "metadata": {
        "id": "PsUpfeHWtlK5"
      },
      "source": [
        "URL = 'https://raw.githubusercontent.com/lfhillesheim/analise_data_sus/main/data/dados_brutos.csv'\n",
        "dados_aux = pd.read_csv(\n",
        "        URL, \n",
        "        encoding=\"ISO-8859-1\",  \n",
        "        engine='python',       \n",
        "        skiprows=3, \n",
        "        sep=\";\", \n",
        "        skipfooter = 12, \n",
        "        thousands=\".\",\n",
        "        decimal =\",\" ,\n",
        "        index_col=0\n",
        "  ).drop('Total', axis=1)"
      ],
      "execution_count": null,
      "outputs": []
    },
    {
      "cell_type": "markdown",
      "metadata": {
        "id": "c_H1ONtN8tFR"
      },
      "source": [
        "#### DATASUS "
      ]
    },
    {
      "cell_type": "markdown",
      "metadata": {
        "id": "ZjKMG4svAyCa"
      },
      "source": [
        "Para saber mais sobre o [dataSUS](http://tabnet.datasus.gov.br/cgi/deftohtm.exe?sih/cnv) [acesse](http://tabnet.datasus.gov.br/cgi/deftohtm.exe?sih/cnv) \n",
        "\n",
        "O caminho para extração da nossa base de dados é:\n",
        "```\n",
        "Início >> Informações de Saúde (TABNET) >> Assistência à Saúde >> Dados Consolidados AIH (RD), por local de internação, a partir de 2008 >> Brasil por Unidade da Federeção\n",
        "``` \n",
        "E os filtros\n",
        "```\n",
        "Linha = Região Unidade da Federação;\n",
        "Coluna = Ano/Mês Processamento; \n",
        "Conteúdo = Valor Total; \n",
        "Perído = todos\n",
        "```\n",
        "\n",
        "A Base de dados você pode buscar os dados direto do O [dataSUS](http://tabnet.datasus.gov.br/cgi/deftohtm.exe?sih/cnv), mas deixei ela importada no meu repositorio no github. "
      ]
    },
    {
      "cell_type": "markdown",
      "metadata": {
        "id": "76asjEf-0cSp"
      },
      "source": [
        "##3. Formatação <a name=\"format\"></a>"
      ]
    },
    {
      "cell_type": "code",
      "metadata": {
        "id": "qXHbXNG4BGvK"
      },
      "source": [
        "dados_valor_estado = dados_aux \n",
        "dados_valor_estado.head()"
      ],
      "execution_count": null,
      "outputs": []
    },
    {
      "cell_type": "markdown",
      "metadata": {
        "id": "VQQdMeT9BLe0"
      },
      "source": [
        "Vemos que ta bem ruim né"
      ]
    },
    {
      "cell_type": "code",
      "metadata": {
        "id": "GT2cwceNBPOu"
      },
      "source": [
        "dados_valor_estado = dados_valor_estado.replace('-', np.nan)\n",
        "dados_valor_estado = dados_valor_estado.astype('float64')\n",
        "dados_valor_estado = dados_valor_estado.loc[:,'2008/Jan':'2020/Dez']"
      ],
      "execution_count": null,
      "outputs": []
    },
    {
      "cell_type": "code",
      "metadata": {
        "id": "2WP46ku1Bd4J"
      },
      "source": [
        "dados_valor_estado.isnull().sum().sum()"
      ],
      "execution_count": null,
      "outputs": []
    },
    {
      "cell_type": "code",
      "metadata": {
        "id": "c-M2JRc2Bf6e"
      },
      "source": [
        "'''Formatar os valores para ponto flutuante'''\n",
        "pd.options.display.float_format = '{:.2f}'.format\n",
        "\n",
        "'''Renomear a Coluna Unidade da Federação to UF'''\n",
        "dados_valor_estado = dados_valor_estado.rename(columns={\"Unidade da Federação\": \"UF\"})\n",
        "\n",
        "display(dados_valor_estado.head(3))\n",
        "display(dados_valor_estado.tail(3))"
      ],
      "execution_count": null,
      "outputs": []
    },
    {
      "cell_type": "markdown",
      "metadata": {
        "id": "S0__-TwvB9qv"
      },
      "source": [
        "*Há* um padrão nos numeros antes do Nome de cada estado, o primeiro número significa à qual Região ele pertence"
      ]
    },
    {
      "cell_type": "code",
      "metadata": {
        "id": "DhjdRAc8B-km"
      },
      "source": [
        "'''Vamos criar uma coluna região, \"splitando\" o primeiro caracter da coluna UF e excluindo a sujeira da coluna UF;'''\n",
        "\n",
        "dados_valor_estado.insert(0, 'regiao',  dados_valor_estado.index.str.slice(0,1) ) \n",
        "dados_valor_estado.index = dados_valor_estado.index.str.slice(3,)\n",
        "\n",
        "'''Aqui vamos alterar o numero que sobrou para sua região correspondente'''\n",
        "\n",
        "replace_values = { \"1\":\"Norte\",\"2\":'Nordeste',\"3\":'Sudeste',\"4\":'Sul',\"5\":'Centro-oeste'}\n",
        "dados_valor_estado = dados_valor_estado.replace({\"regiao\" : replace_values})\n",
        "dados_valor_estado.tail(2)"
      ],
      "execution_count": null,
      "outputs": []
    },
    {
      "cell_type": "code",
      "metadata": {
        "id": "MADzj7ehCAve"
      },
      "source": [
        "''' a descrição dos dados das colunas contáveis da tabela ajudam bastante no entendimento, podemos usar algumas métricas especificas como mean, max e min'''\n",
        "\n",
        "dados_valor_estado.describe()"
      ],
      "execution_count": null,
      "outputs": []
    },
    {
      "cell_type": "code",
      "metadata": {
        "id": "zDB4Q8SuCDhY"
      },
      "source": [
        "dados_valor_estado.info()"
      ],
      "execution_count": null,
      "outputs": []
    },
    {
      "cell_type": "markdown",
      "metadata": {
        "id": "0i04q5-o0EGO"
      },
      "source": [
        "##4. Exportação <a name=\"export\"></a>"
      ]
    }
  ]
}