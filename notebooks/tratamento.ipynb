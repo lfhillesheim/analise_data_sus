{
  "nbformat": 4,
  "nbformat_minor": 0,
  "metadata": {
    "colab": {
      "name": "tratamento_dados.ipynb",
      "provenance": [],
      "collapsed_sections": [
        "QEe-j9AutD1w",
        "_zklmW1q2Qor",
        "ITYug7TMtnEy"
      ],
      "include_colab_link": true
    },
    "kernelspec": {
      "name": "python3",
      "display_name": "Python 3"
    },
    "language_info": {
      "name": "python"
    }
  },
  "cells": [
    {
      "cell_type": "markdown",
      "metadata": {
        "id": "view-in-github",
        "colab_type": "text"
      },
      "source": [
        "<a href=\"https://colab.research.google.com/github/lfhillesheim/template_data_cy/blob/main/notebooks/tratamento.ipynb\" target=\"_parent\"><img src=\"https://colab.research.google.com/assets/colab-badge.svg\" alt=\"Open In Colab\"/></a>"
      ]
    },
    {
      "cell_type": "markdown",
      "metadata": {
        "id": "frWgCVfdsW1r"
      },
      "source": [
        "#**Tratamento da base de dados - Projeto Lalala**\n",
        "\n",
        "---\n",
        "\n",
        "<a href=\"https://www.instagram.com/lucas_hillesheim/\" target=\"_blank\"><img src=\"https://img.shields.io/badge/-Instagram-%23E4405F?style=for-the-badge&logo=instagram&logoColor=white\" target=\"_blank\"></a> <a href=\"https://discordapp.com/users/433435878959087635\" target=\"_blank\"><img src=\"https://img.shields.io/badge/Discord-7289DA?style=for-the-badge&logo=discord&logoColor=white\" target=\"_blank\"></a> <a href = \"mailto:lucas.ferreira.hillesheim@gmail.com\"><img src=\"https://img.shields.io/badge/-Gmail-%23333?style=for-the-badge&logo=gmail&logoColor=white\" target=\"_blank\"></a> <a href=\"https://www.linkedin.com/in/lfhillesheim/\" target=\"_blank\"><img src=\"https://img.shields.io/badge/LinkedIn-0077B5?style=for-the-badge&logo=linkedin&logoColor=white\" target=\"_blank\"></a> <a href = \"https://open.spotify.com/user/lucas.ferreira.hillesheim\"><img src=\"https://img.shields.io/badge/Spotify-1ED760?&style=for-the-badge&logo=spotify&logoColor=white\" target=\"_blank\"></a> <a href = \"https://twitter.com/Lucass_Lucro\"><img src=\"https://img.shields.io/badge/Twitter-1DA1F2?style=for-the-badge&logo=twitter&logoColor=white\" target=\"_blank\"></a> \n",
        "\n",
        "[![Repositório GitHub](https://img.shields.io/badge/GitHub-Lucas-orange)](https://github.com/lfhillesheim) [![Project](https://img.shields.io/badge/Repositório_Projeto-blue)](/lfhillesheim)\n",
        "\n",
        "[![Notebook](https://img.shields.io/badge/Notebooks-grey)](https://github.com/lfhillesheim/template_data_cy/blob/main/notebooks)[![Notebook](https://img.shields.io/badge/Analise_dos_dados-blue)](https://github.com/lfhillesheim/template_data_cy/blob/main/notebooks/analise.ipynb)[![Notebook](https://img.shields.io/badge/Conclusão-gren)](https://github.com/lfhillesheim/template_data_cy/blob/main/notebooks/conclusao.ipynb)  \n",
        "\n",
        "\n",
        "[![Analise](https://img.shields.io/badge/Dados_tratados-brown)](https://github.com/lfhillesheim/template_data_cy/blob/main/data/dados_tratados.csv) \n",
        "\n",
        "---\n",
        "\n",
        "> Hi There, meu nome é Lucas, sou um Cientista de dados, com 21 anos, sou natural de Blumenau/SC e nesse projeto quero mostrar como tratar a base de dados e resolver o problema de... e para isso separei os dados em dois notebooks, um de tratamento e outro para anáise então segue o fio\n",
        "\n",
        "\n",
        "<br>\n",
        "\n",
        "# Sumário do Projeto:\n",
        "\n",
        "\n",
        "\n",
        "1. [Introdução](#intro)\n",
        "\n",
        "2. [Importações](#import)\n",
        "  \n",
        "  *  [Bibliotecas](#library) | [Bases de Dados](#data)\n",
        "\n",
        "3. [Formatando](#format)\n",
        "\n",
        "4. [Exportação](#export) \n"
      ]
    },
    {
      "cell_type": "markdown",
      "metadata": {
        "id": "CG4Cq--9IYFg"
      },
      "source": [
        "### 1. Introdução <a name=\"intro\"></a>"
      ]
    },
    {
      "cell_type": "markdown",
      "metadata": {
        "id": "QEe-j9AutD1w"
      },
      "source": [
        "## 2. Importações - Bibliotecas e base de dados <a name=\"import\"></a>"
      ]
    },
    {
      "cell_type": "markdown",
      "metadata": {
        "id": "_zklmW1q2Qor"
      },
      "source": [
        "### Bibliotecas <a name=\"library\"></a>"
      ]
    },
    {
      "cell_type": "code",
      "metadata": {
        "id": "Rl7W0JP1tH4A"
      },
      "source": [
        "import pandas as pd\n",
        "import numpy as np"
      ],
      "execution_count": null,
      "outputs": []
    },
    {
      "cell_type": "markdown",
      "metadata": {
        "id": "ITYug7TMtnEy"
      },
      "source": [
        "### Bases utilizadas <a name=\"data\"></a>\n",
        "\n",
        "> #### Fonte Datasus: https://lalalala.com.br"
      ]
    },
    {
      "cell_type": "markdown",
      "metadata": {
        "id": "RmXAKq4QuMkO"
      },
      "source": [
        "A Base de dados você pode buscar os dados direto do [lugar](hwww.lugar.com), mas deixei ela importada no meu repositorio no github. \n",
        "\n"
      ]
    },
    {
      "cell_type": "code",
      "metadata": {
        "id": "PsUpfeHWtlK5"
      },
      "source": [
        "URL = 'https://github.com/lfhillesheim/'\n",
        "dados_aux = pd.read_csv(\n",
        "        URL, \n",
        "        encoding=\"ISO-8859-1\",  \n",
        "        engine='python',       \n",
        "        skiprows=3, \n",
        "        sep=\";\", \n",
        "        skipfooter = 12, \n",
        "        thousands=\".\",\n",
        "        decimal =\",\" ,\n",
        "        index_col=0\n",
        "  ).drop('Total', axis=1)"
      ],
      "execution_count": null,
      "outputs": []
    },
    {
      "cell_type": "markdown",
      "metadata": {
        "id": "76asjEf-0cSp"
      },
      "source": [
        "##2. Formatação <a name=\"format\"></a>"
      ]
    },
    {
      "cell_type": "markdown",
      "metadata": {
        "id": "0i04q5-o0EGO"
      },
      "source": [
        "##4. Exportação <a name=\"export\"></a>"
      ]
    }
  ]
}